{
 "cells": [
  {
   "cell_type": "markdown",
   "id": "f199c5d8-9ad6-4416-87dd-6ec0d8ab4a17",
   "metadata": {},
   "source": [
    "# import packages"
   ]
  },
  {
   "cell_type": "code",
   "execution_count": null,
   "id": "67602eed-eff9-442d-b8c4-faaaaa502936",
   "metadata": {},
   "outputs": [],
   "source": [
    "import pathlib\n",
    "import numpy as np\n",
    "import xarray as xr\n",
    "import matplotlib\n",
    "import matplotlib.pyplot as plt\n",
    "from matplotlib.pyplot import subplots\n",
    "from scipy.signal import convolve\n",
    "from mpl_toolkits.mplot3d import Axes3D\n",
    "from numpy.fft import fftn, fftshift\n",
    "from tqdm.auto import tqdm\n",
    "import os\n",
    "# from dask.distributed import Client\n",
    "%matplotlib widget"
   ]
  },
  {
   "cell_type": "code",
   "execution_count": null,
   "id": "bd1d1205-9b09-4570-a6e8-8f599ea3a1a1",
   "metadata": {},
   "outputs": [],
   "source": [
    "import dask.array as da\n",
    "import flox\n",
    "import flox.xarray\n",
    "from flox.xarray import xarray_reduce"
   ]
  },
  {
   "cell_type": "code",
   "execution_count": null,
   "id": "2f09fa0e-571f-4353-aab7-90f25c1365eb",
   "metadata": {},
   "outputs": [],
   "source": [
    "import xrft"
   ]
  },
  {
   "cell_type": "code",
   "execution_count": null,
   "id": "bf460143-9ae1-49bd-9dbe-7fae69705193",
   "metadata": {},
   "outputs": [],
   "source": [
    "# from dask.distributed import LocalCluster\n",
    "# cluster = LocalCluster()\n",
    "# client = cluster.get_client()\n",
    "# client"
   ]
  },
  {
   "cell_type": "markdown",
   "id": "cab41405-c6a7-4543-ab30-dc1a054f33a8",
   "metadata": {},
   "source": [
    "# import local files"
   ]
  },
  {
   "cell_type": "code",
   "execution_count": null,
   "id": "4e74b8a6-e1b4-4444-a344-07c96902d42a",
   "metadata": {},
   "outputs": [],
   "source": [
    "from ptable_dict import ptable, atomic_masses\n",
    "from utilities import write_xyz, load_xyz, rotation_matrix, gaussian_kernel\n",
    "from meshgrids import generate_density_grid, convert_grid_qspace, plot_3D_grid\n",
    "from detector import make_detector, rotate_about_normal, rotate_about_horizontal, rotate_about_vertical, intersect_detector"
   ]
  },
  {
   "cell_type": "markdown",
   "id": "dd801e01-e1e4-4e08-b8ab-6e4690ead83d",
   "metadata": {},
   "source": [
    "# Generate and plot real-space voxel map for xyz file"
   ]
  },
  {
   "cell_type": "code",
   "execution_count": null,
   "id": "48bbd3d0-bcf2-4905-a9b9-98160f05ab60",
   "metadata": {},
   "outputs": [],
   "source": [
    "# Define base path\n",
    "# dirr = os.getcwd()\n",
    "# xyz_path = f'{dirr}/test_xyz_files/mercury_line.xyz'\n",
    "basePath = pathlib.Path('/Users/andrew/Library/CloudStorage/OneDrive-UCB-O365/research/data_analysis/repos/giwaxs_forward_sim')\n",
    "xyzPath = basePath.joinpath('test_xyz_files/graphite_small.xyz')\n",
    "\n",
    "sigma = 0.2\n",
    "voxel_size = 0.1\n",
    "dens_grid, x_axis, y_axis, z_axis = generate_density_grid(xyzPath, sigma, voxel_size, min_ax_size=1024)\n",
    "dens_grid_DA = xr.DataArray(data=dens_grid,\n",
    "                            dims=['y', 'x', 'z'],\n",
    "                            coords={'y':y_axis,\n",
    "                                    'x':x_axis,\n",
    "                                    'z':z_axis})\n",
    "\n",
    "dens_grid, x_axis, y_axis, z_axis = generate_density_grid(xyzPath, sigma, voxel_size, min_ax_size=512)"
   ]
  },
  {
   "cell_type": "code",
   "execution_count": null,
   "id": "c015444d-aeca-4979-b10b-d18da4c63979",
   "metadata": {},
   "outputs": [],
   "source": [
    "%%time\n",
    "# Dask-ify it\n",
    "dens_grid_DA = dens_grid_DA.chunk({'x':256,'y':256,'z':256}).persist()\n",
    "dens_grid_DA"
   ]
  },
  {
   "cell_type": "code",
   "execution_count": null,
   "id": "31f1d8d3-18a4-4483-b8b8-0eb10a0d1147",
   "metadata": {},
   "outputs": [],
   "source": [
    "# %%time\n",
    "# dens_grid_DA.reduce(np.nanpercentile, q=0.1)"
   ]
  },
  {
   "cell_type": "code",
   "execution_count": null,
   "id": "97264771-1c36-45e2-9716-d94fbdd66eb2",
   "metadata": {},
   "outputs": [],
   "source": [
    "# %%time\n",
    "# lazy_clims = da.percentile(dens_grid_DA.data.ravel(), [0.1, 0.99])\n",
    "# lazy_clims"
   ]
  },
  {
   "cell_type": "code",
   "execution_count": null,
   "id": "06c51935-5a8d-44ae-bf5e-bddfee865714",
   "metadata": {},
   "outputs": [],
   "source": [
    "%%time\n",
    "lazy_binned_DA = dens_grid_DA.groupby_bins('x', 128).mean().groupby_bins('y',128).mean().groupby_bins('z',128).mean()"
   ]
  },
  {
   "cell_type": "code",
   "execution_count": null,
   "id": "2384f19a-1e9b-4147-8f76-50f90a5d84f8",
   "metadata": {},
   "outputs": [],
   "source": [
    "%%time\n",
    "binned_DA = lazy_binned_DA.compute()\n",
    "\n",
    "display(binned_DA)"
   ]
  },
  {
   "cell_type": "code",
   "execution_count": null,
   "id": "5359039b-2af0-4162-aa21-0dbbe463c7a8",
   "metadata": {},
   "outputs": [],
   "source": [
    "binned_DA = binned_DA.assign_coords({\n",
    "            'x': ('x_bins', np.array([interval.mid for interval in binned_DA.x_bins.data])),\n",
    "            'y': ('y_bins', np.array([interval.mid for interval in binned_DA.y_bins.data])),\n",
    "            'z': ('z_bins', np.array([interval.mid for interval in binned_DA.z_bins.data]))\n",
    "                   }).swap_dims({'x_bins':'x', 'y_bins':'y', 'z_bins':'z'})\n",
    "binned_DA"
   ]
  },
  {
   "cell_type": "code",
   "execution_count": null,
   "id": "60ffcb00-7742-488b-9343-6f01148c4f08",
   "metadata": {},
   "outputs": [],
   "source": [
    "plt.close('all')\n",
    "threshold = 99.9\n",
    "num_levels = 10\n",
    "cmap = 'plasma'\n",
    "# fig, ax = plot_3D_grid(dens_grid, x_axis, y_axis, z_axis, cmap, threshold, num_levels, log=True)\n",
    "fig, ax = plot_3D_grid(binned_DA.data, binned_DA.x.data, binned_DA.y.data, binned_DA.z.data, cmap, threshold, num_levels, log=True)\n",
    "\n",
    "plt.show()"
   ]
  },
  {
   "cell_type": "markdown",
   "id": "373acd00-ab72-4311-b130-a80cbd81cdd6",
   "metadata": {},
   "source": [
    "# Generate and plot reciprocal space voxel map for xyz file"
   ]
  },
  {
   "cell_type": "code",
   "execution_count": null,
   "id": "5dc8461b-65e5-43eb-9be0-b8e6a2959999",
   "metadata": {},
   "outputs": [],
   "source": [
    "dens_grid_DA"
   ]
  },
  {
   "cell_type": "code",
   "execution_count": null,
   "id": "26232e90-00cd-4b2a-a05a-0425ed802031",
   "metadata": {},
   "outputs": [],
   "source": [
    "fft_DA = xrft.fft(dens_grid_DA, chunks_to_segments=True).mean(['x_segment', 'y_segment', 'z_segment'])\n",
    "fft_DA = fft_DA.rename({'freq_y':'qy', 'freq_x':'qx', 'freq_z':'qz'})\n",
    "iq_DA = np.abs(fft_DA)**2"
   ]
  },
  {
   "cell_type": "code",
   "execution_count": null,
   "id": "0f173da3-165d-40d4-9ff7-bb9cfeda51d3",
   "metadata": {},
   "outputs": [],
   "source": [
    "from dask.diagnostics import ProgressBar"
   ]
  },
  {
   "cell_type": "code",
   "execution_count": null,
   "id": "f8f3d859-4bf2-4630-a4d8-ff4382cc5b05",
   "metadata": {},
   "outputs": [],
   "source": [
    "# %%time\n",
    "with ProgressBar():\n",
    "    iq_DA = iq_DA.compute()"
   ]
  },
  {
   "cell_type": "code",
   "execution_count": null,
   "id": "7a185c5d-920f-4f04-b380-1d236d463b7d",
   "metadata": {},
   "outputs": [],
   "source": [
    "iq, qx, qy, qz = convert_grid_qspace(dens_grid, x_axis, y_axis, z_axis)"
   ]
  },
  {
   "cell_type": "code",
   "execution_count": null,
   "id": "db8dd9e5-64ca-4494-9a79-e8c1811aaad3",
   "metadata": {},
   "outputs": [],
   "source": [
    "plt.close('all')\n",
    "threshold = 99.9\n",
    "num_levels = 10\n",
    "cmap = 'plasma'\n",
    "fig, ax = plot_3D_grid(iq, qx, qy, qz, cmap, threshold, num_levels)\n",
    "# fig, ax = plot_3D_grid(iq, qx, qy, qz, cmap, threshold, num_levels)\n",
    "\n",
    "# ax.set_xlim((-3,3))\n",
    "# ax.set_ylim((-3,3))\n",
    "# ax.set_zlim((-3,3))\n",
    "plt.show()"
   ]
  },
  {
   "cell_type": "code",
   "execution_count": null,
   "id": "a749b96c-a41d-49c1-8256-381fc77f9405",
   "metadata": {},
   "outputs": [],
   "source": [
    "iq_DA"
   ]
  },
  {
   "cell_type": "code",
   "execution_count": null,
   "id": "c40cb28a-c261-4330-91fc-cea97ec12ca2",
   "metadata": {},
   "outputs": [],
   "source": [
    "plt.close('all')\n",
    "threshold = 99.9\n",
    "num_levels = 10\n",
    "cmap = 'plasma'\n",
    "fig, ax = plot_3D_grid(iq_DA.data, iq_DA.qx.data*2*np.pi, iq_DA.qy.data*2*np.pi, iq_DA.qz.data*2*np.pi, cmap, threshold, num_levels)\n",
    "\n",
    "plt.show()"
   ]
  },
  {
   "cell_type": "markdown",
   "id": "8e91453f-ad59-415d-9892-9e6e4db825d1",
   "metadata": {},
   "source": [
    "# find q-resolutions\n",
    "### The frequency resolution (qbin size) is given by sampling rate (1/voxel_size) over box size (size of molecule)"
   ]
  },
  {
   "cell_type": "code",
   "execution_count": null,
   "id": "74345a01-04d9-4c7e-9939-a8f23c4049dc",
   "metadata": {},
   "outputs": [],
   "source": [
    "x_vals = qx\n",
    "y_vals = qy\n",
    "z_vals = qz\n",
    "qx_res = x_vals[1]-x_vals[0]\n",
    "qy_res = y_vals[1]-y_vals[0]\n",
    "qz_res = z_vals[1]-z_vals[0]\n",
    "print(f'Resolutions are [qx={qx_res:.4f}, qy={qy_res:.4f}, qz={qz_res:.4f}]')"
   ]
  },
  {
   "cell_type": "code",
   "execution_count": null,
   "id": "3f1ee5b4-0cb4-4f2d-b171-a4aa8452b9d1",
   "metadata": {},
   "outputs": [],
   "source": [
    "x_vals = iq_DA.qx.data*2*np.pi\n",
    "y_vals = iq_DA.qy.data*2*np.pi\n",
    "z_vals = iq_DA.qz.data*2*np.pi\n",
    "qx_res = x_vals[1]-x_vals[0]\n",
    "qy_res = y_vals[1]-y_vals[0]\n",
    "qz_res = z_vals[1]-z_vals[0]\n",
    "print(f'Resolutions are [qx={qx_res:.4f}, qy={qy_res:.4f}, qz={qz_res:.4f}]')"
   ]
  },
  {
   "cell_type": "markdown",
   "id": "4c52ab30-a74d-44c3-8201-64786de5fdc5",
   "metadata": {},
   "source": [
    "# Set up Detector"
   ]
  },
  {
   "cell_type": "code",
   "execution_count": null,
   "id": "ceaa3e2c-e025-4ed4-9cbe-b670e72fa5a9",
   "metadata": {},
   "outputs": [],
   "source": [
    "det_pixels = (200,200) #horizontal, vertical\n",
    "det_qs = (8,8) #horizontal, vertical (these are absolute maximums. detector centered at 0)\n",
    "det_x_grid, det_y_grid, det_z_grid, det_h, det_v = make_detector(det_qs[0], det_pixels[0], det_qs[1], det_pixels[1])\n",
    "\n",
    "psi = 0 #rotation in degrees of detector about detector normal axis\n",
    "det_x_grid, det_y_grid, det_z_grid = rotate_about_normal(det_x_grid, det_y_grid, det_z_grid, psi)\n",
    "phi = 0 #rotation in degrees of detector about detector vertical axis\n",
    "det_x_grid, det_y_grid, det_z_grid = rotate_about_vertical(det_x_grid, det_y_grid, det_z_grid, phi)\n",
    "theta = 0 #rotation in degrees of detector about detector horizontal axis\n",
    "det_x_grid, det_y_grid, det_z_grid = rotate_about_horizontal(det_x_grid, det_y_grid, det_z_grid, theta)"
   ]
  },
  {
   "cell_type": "markdown",
   "id": "7794554d-f1bb-4787-8fb3-f6151861426c",
   "metadata": {},
   "source": [
    "# plot single detector"
   ]
  },
  {
   "cell_type": "code",
   "execution_count": null,
   "id": "42cf26c9-fcbb-486a-9b7c-cc40fb707da0",
   "metadata": {},
   "outputs": [],
   "source": [
    "det_ints = intersect_detector(iq, qx, qy, qz, det_x_grid, det_y_grid, det_z_grid, det_h, det_v)\n",
    "\n",
    "# plot\n",
    "fig, ax1 = subplots()\n",
    "ax1.imshow(det_ints,\n",
    "           norm=matplotlib.colors.Normalize(vmin=np.percentile(det_ints, 10), vmax=np.percentile(det_ints, 99)),\n",
    "           extent=(np.min(det_h),np.max(det_h),np.min(det_v),np.max(det_v)),\n",
    "           cmap='turbo',\n",
    "           origin = 'lower')\n",
    "ax1.set_xlabel('q horizontal')\n",
    "ax1.set_ylabel('q vertical')"
   ]
  },
  {
   "cell_type": "code",
   "execution_count": null,
   "id": "770a49ac-086d-4145-ba07-40d4b93fad95",
   "metadata": {},
   "outputs": [],
   "source": [
    "det_ints = intersect_detector(iq_DA.data, iq_DA.qx.data*2*np.pi, iq_DA.qy.data*2*np.pi, iq_DA.qz.data*2*np.pi, det_x_grid, det_y_grid, det_z_grid, det_h, det_v)\n",
    "\n",
    "# plot\n",
    "fig, ax1 = subplots()\n",
    "ax1.imshow(det_ints,\n",
    "           norm=matplotlib.colors.Normalize(vmin=np.percentile(det_ints, 10), vmax=np.percentile(det_ints, 99)),\n",
    "           extent=(np.min(det_h),np.max(det_h),np.min(det_v),np.max(det_v)),\n",
    "           cmap='turbo',\n",
    "           origin = 'lower')\n",
    "ax1.set_xlabel('q horizontal')\n",
    "ax1.set_ylabel('q vertical')"
   ]
  },
  {
   "cell_type": "markdown",
   "id": "75c099c7-8aa3-44f8-a73b-fa83514d333d",
   "metadata": {},
   "source": [
    "# Generate and sum multiple plots across selected angles"
   ]
  },
  {
   "cell_type": "code",
   "execution_count": null,
   "id": "7f2ed969-a998-4c24-9213-db8653ed9a19",
   "metadata": {},
   "outputs": [],
   "source": [
    "def generate_detector_ints(det_pixels, det_qs, psi, phi, theta):\n",
    "    det_x_grid, det_y_grid, det_z_grid, det_h, det_v = make_detector(det_qs[0], det_pixels[0], det_qs[1], det_pixels[1])\n",
    "    \n",
    "    # psi = 0 #rotation in degrees of detector about detector normal axis\n",
    "    det_x_grid, det_y_grid, det_z_grid = rotate_about_normal(det_x_grid, det_y_grid, det_z_grid, psi)\n",
    "    # phi = 0 #rotation in degrees of detector about detector vertical axis\n",
    "    det_x_grid, det_y_grid, det_z_grid = rotate_about_vertical(det_x_grid, det_y_grid, det_z_grid, phi)\n",
    "    # theta = 0 #rotation in degrees of detector about detector horizontal axis\n",
    "    det_x_grid, det_y_grid, det_z_grid = rotate_about_horizontal(det_x_grid, det_y_grid, det_z_grid, theta)\n",
    "    det_ints = intersect_detector(iq, qx, qy, qz, det_x_grid, det_y_grid, det_z_grid, det_h, det_v)\n",
    "\n",
    "    return det_ints"
   ]
  },
  {
   "cell_type": "code",
   "execution_count": null,
   "id": "74414534-90d0-4a0b-84b9-c529bfcb617d",
   "metadata": {},
   "outputs": [],
   "source": [
    "#setup detector\n",
    "det_pixels = (150,150) #horizontal, vertical\n",
    "det_qs = (6.5,6.5) #horizontal, vertical (these are absolute maximums. detector centered at 0)\n",
    "psi = 0 #rotation in degrees of detector about detector normal axis\n",
    "phis = np.linspace(0,180,num=60) #rotation in degrees of detector about detector vertical axis\n",
    "theta = 0 #rotation in degrees of detector about detector horizontal axis\n",
    "\n",
    "det_ints = []\n",
    "det_x_grid, det_y_grid, det_z_grid, det_h, det_v = make_detector(det_qs[0], det_pixels[0], det_qs[1], det_pixels[1])\n",
    "for i, phi in enumerate(phis):\n",
    "    det_int = generate_detector_ints(det_pixels, det_qs, psi, phi, theta)\n",
    "    if i == 0:\n",
    "        det_sum = det_int\n",
    "    else:\n",
    "        det_sum +=det_int\n",
    "    det_ints.append(det_int)"
   ]
  },
  {
   "cell_type": "code",
   "execution_count": null,
   "id": "761e590c-4aed-4b80-945c-99ab4e8a0bd3",
   "metadata": {},
   "outputs": [],
   "source": [
    "%matplotlib widget\n",
    "fig, ax1 = subplots()\n",
    "cax = ax1.imshow(det_sum,\n",
    "           norm=matplotlib.colors.LogNorm(vmin=np.percentile(det_sum, 30), vmax=np.percentile(det_sum, 99)),\n",
    "           extent=(np.min(det_h),np.max(det_h),np.min(det_v),np.max(det_v)),\n",
    "           cmap='turbo',\n",
    "           origin = 'lower')\n",
    "ax1.set_xlabel('q horizontal')\n",
    "ax1.set_ylabel('q vertical')\n",
    "ax1.set_xlim(left=0)\n",
    "ax1.set_ylim(bottom=0)\n",
    "cbar = fig.colorbar(cax, ax=ax1)"
   ]
  },
  {
   "cell_type": "markdown",
   "id": "8ca6240c-6661-45dd-a7db-b732ed703b39",
   "metadata": {},
   "source": [
    "# Visualize each individual detector across angles"
   ]
  },
  {
   "cell_type": "code",
   "execution_count": null,
   "id": "f3c7b82c-d9cf-4875-a496-bfafa226741b",
   "metadata": {},
   "outputs": [],
   "source": [
    "%matplotlib inline"
   ]
  },
  {
   "cell_type": "code",
   "execution_count": null,
   "id": "df97be38-02bd-4822-85f7-269bc9a18f57",
   "metadata": {},
   "outputs": [],
   "source": [
    "for i in range(len(det_ints[:,0,0])):\n",
    "    det_int = det_ints[i,:,:]\n",
    "    fig, ax1 = subplots()\n",
    "    cax = ax1.imshow(det_int,\n",
    "           norm=matplotlib.colors.LogNorm(vmin=np.percentile(det_int, 10), vmax=np.percentile(det_int, 99)),\n",
    "           extent=(np.min(det_h),np.max(det_h),np.min(det_v),np.max(det_v)),\n",
    "           cmap='turbo',\n",
    "           origin = 'lower')\n",
    "    ax1.set_xlabel('q horizontal')\n",
    "    ax1.set_ylabel('q vertical')\n",
    "    ax1.set_xlim(0, 3)\n",
    "    ax1.set_ylim(0, 3)\n",
    "    cbar = fig.colorbar(cax, ax=ax1)\n",
    "    ax1.set_title(f'Phi = {i*3} degrees')\n",
    "    plt.show()\n",
    "    plt.close('all')\n",
    "    "
   ]
  }
 ],
 "metadata": {
  "kernelspec": {
   "display_name": "Python 3 (ipykernel)",
   "language": "python",
   "name": "python3"
  },
  "language_info": {
   "codemirror_mode": {
    "name": "ipython",
    "version": 3
   },
   "file_extension": ".py",
   "mimetype": "text/x-python",
   "name": "python",
   "nbconvert_exporter": "python",
   "pygments_lexer": "ipython3",
   "version": "3.12.3"
  }
 },
 "nbformat": 4,
 "nbformat_minor": 5
}
