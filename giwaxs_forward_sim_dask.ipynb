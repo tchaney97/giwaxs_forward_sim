{
 "cells": [
  {
   "cell_type": "markdown",
   "id": "f199c5d8-9ad6-4416-87dd-6ec0d8ab4a17",
   "metadata": {},
   "source": [
    "# Setup"
   ]
  },
  {
   "cell_type": "markdown",
   "id": "770984db-9697-41b9-9ccb-db3242b71dfc",
   "metadata": {},
   "source": [
    "## Import packages"
   ]
  },
  {
   "cell_type": "code",
   "execution_count": null,
   "id": "67602eed-eff9-442d-b8c4-faaaaa502936",
   "metadata": {
    "tags": []
   },
   "outputs": [],
   "source": [
    "import pathlib\n",
    "import numpy as np\n",
    "import xarray as xr\n",
    "import matplotlib\n",
    "import matplotlib.pyplot as plt\n",
    "from matplotlib.pyplot import subplots\n",
    "from scipy.signal import convolve\n",
    "from scipy.ndimage import gaussian_filter\n",
    "from mpl_toolkits.mplot3d import Axes3D\n",
    "from matplotlib.colors import LogNorm\n",
    "from numpy.fft import fftn, fftshift\n",
    "from tqdm.auto import tqdm\n",
    "import os\n",
    "\n",
    "import dask\n",
    "import dask.array as da\n",
    "from dask.diagnostics import ProgressBar\n",
    "from dask_image.ndfourier import fourier_gaussian, _utils\n",
    "import flox\n",
    "import flox.xarray\n",
    "from flox.xarray import xarray_reduce\n",
    "import xrft\n",
    "\n",
    "%matplotlib widget"
   ]
  },
  {
   "cell_type": "code",
   "execution_count": null,
   "id": "0bb97e66-3433-447f-aa19-6d2ae4c23f4e",
   "metadata": {},
   "outputs": [],
   "source": [
    "client.restart()"
   ]
  },
  {
   "cell_type": "markdown",
   "id": "c8b61d2f-60d7-408b-84be-7d19fade0b81",
   "metadata": {},
   "source": [
    "## Setup dask client\n",
    "Optional, without setting up anything, the arrays will be chunked but may not parallelize as expected\n",
    "\n",
    "To install dask extension (only if you have jupyter version 4.x):\n",
    "- pip install dask-labextension\n",
    "- restart jupyter lab\n",
    "\n",
    "To set up with JupyterLab dask extension (if installed):\n",
    "- Click on dask tab on the left side, just under the kernel tab and above the table of contents tab\n",
    "- Start new cluster at bottom, then click the '<>' to insert a cell into the notebook with code to intialize the client\n",
    "- Click Launch dashboard in output from inserted cell to see standard dashboard windows on right side\n",
    "- In the dask tab, launch any other progress windows of intereste (graph is nice)"
   ]
  },
  {
   "cell_type": "code",
   "execution_count": null,
   "id": "e2dbac70-67a3-4832-beba-a7567c0aa991",
   "metadata": {},
   "outputs": [],
   "source": [
    "from dask.distributed import Client\n",
    "\n",
    "client = Client(\"tcp://127.0.0.1:50391\")\n",
    "client"
   ]
  },
  {
   "cell_type": "markdown",
   "id": "cab41405-c6a7-4543-ab30-dc1a054f33a8",
   "metadata": {},
   "source": [
    "## Import local files"
   ]
  },
  {
   "cell_type": "code",
   "execution_count": null,
   "id": "4e74b8a6-e1b4-4444-a344-07c96902d42a",
   "metadata": {
    "tags": []
   },
   "outputs": [],
   "source": [
    "from ptable_dict import ptable, atomic_masses\n",
    "from utilities import write_xyz, load_xyz, rotation_matrix, gaussian_kernel, load_array_from_npy_stack\n",
    "from meshgrids import generate_density_grid, convert_grid_qspace, plot_3D_grid, generate_electron_grid_npys_fixed, xrft_fft\n",
    "from detector import make_detector, rotate_about_normal, rotate_about_horizontal, rotate_about_vertical, intersect_detector"
   ]
  },
  {
   "cell_type": "markdown",
   "id": "dd801e01-e1e4-4e08-b8ab-6e4690ead83d",
   "metadata": {},
   "source": [
    "# Generate and plot real-space voxel map for xyz file"
   ]
  },
  {
   "cell_type": "markdown",
   "id": "db897241-3028-4898-8e22-e4b549dab843",
   "metadata": {
    "tags": []
   },
   "source": [
    "## Fixed voxel segmentations along x\n",
    "- generates real space voxel map with electron density values according to atomic positions and z\n",
    "- no smearing is done here electron density is only populated at single voxel for each atom"
   ]
  },
  {
   "cell_type": "code",
   "execution_count": null,
   "id": "48bbd3d0-bcf2-4905-a9b9-98160f05ab60",
   "metadata": {
    "tags": []
   },
   "outputs": [],
   "source": [
    "# Define base path\n",
    "basePath = pathlib.Path.cwd()\n",
    "xyzPath = basePath.joinpath('test_xyz_files/graphite_medium.xyz')\n",
    "npySavePath = basePath.joinpath('output_files')\n",
    "npySavePath.mkdir(exist_ok=True)\n",
    "\n",
    "voxel_size = 0.1\n",
    "min_ax_size = 1024\n",
    "num_chunks = 16  # segments along x to be saved as .npy files. make reasonable for ram\n",
    "\n",
    "#iteratively populates voxel grid and saves in chunks as .npy files\n",
    "#.npy files will be loaded into dask array later\n",
    "shape_info = generate_electron_grid_npys_fixed(xyzPath, \n",
    "                                               voxel_size, \n",
    "                                               num_chunks,\n",
    "                                               npySavePath,\n",
    "                                               min_ax_size=min_ax_size)\n",
    "x_axis, y_axis, z_axis, grid_vox_x, grid_vox_y, grid_vox_z = shape_info"
   ]
  },
  {
   "cell_type": "code",
   "execution_count": null,
   "id": "22f02b05-a593-4463-aa58-0fc3d5d4ce74",
   "metadata": {
    "tags": []
   },
   "outputs": [],
   "source": [
    "# Below loads the numpy array stacks into a dask array\n",
    "# I've so far been unable to fit this all into the separate python script without \n",
    "# running into strange moduleimport errors... but this should work!\n",
    "# def load_array_from_npy_stack(npy_paths):\n",
    "#     arrs = []\n",
    "#     for npy_path in npy_paths:\n",
    "#         arr = np.load(npy_path)\n",
    "#         arrs.append(arr)\n",
    "#     return np.concatenate(arrs, axis=1)\n",
    "\n",
    "#finds .npy files corresponding to real space voxel map slabs\n",
    "npy_paths = sorted(npySavePath.glob('*.npy'), key=lambda x: int(x.name.split('_')[3].split('-')[-1]))\n",
    "#delayed loading conserves memory\n",
    "density_grid_segments = []\n",
    "for npy_path in npy_paths:\n",
    "    density_grid_segment = dask.delayed(np.load)(npy_path)\n",
    "    #rechunk based on num_chunks\n",
    "    density_grid_segment = dask.array.from_delayed(density_grid_segment, \n",
    "                                                   shape=(grid_vox_y, int(grid_vox_x/num_chunks), grid_vox_z),\n",
    "                                                   dtype=np.float64)\n",
    "    #append list of dask array objects\n",
    "    density_grid_segments.append(density_grid_segment)\n",
    "\n",
    "# uses list of dask array objects and concatenates into \n",
    "density_grid = dask.array.concatenate(density_grid_segments, axis=1)\n",
    "\n",
    "density_grid = density_grid.persist()\n",
    "\n",
    "# Put loaded dask array into xarray data_array\n",
    "dens_grid_DA = xr.DataArray(data=density_grid,\n",
    "                            dims=['y', 'x', 'z'],\n",
    "                            coords={'y':y_axis,\n",
    "                                    'x':x_axis,\n",
    "                                    'z':z_axis})\n",
    "dens_grid_DA"
   ]
  },
  {
   "cell_type": "markdown",
   "id": "373acd00-ab72-4311-b130-a80cbd81cdd6",
   "metadata": {},
   "source": [
    "# Generate and plot reciprocal space voxel map for xyz file"
   ]
  },
  {
   "cell_type": "markdown",
   "id": "5ac8dff0-fb66-4a10-b26b-5c78f3a6ab47",
   "metadata": {},
   "source": [
    "## Forward FFT with gaussian"
   ]
  },
  {
   "cell_type": "code",
   "execution_count": null,
   "id": "ccdb91f5-f3d7-4b51-a820-1b47c3ba3400",
   "metadata": {
    "tags": []
   },
   "outputs": [],
   "source": [
    "# Define fft parallelized function with xrft + dask + xarray!\n",
    "def xrft_fft(DA, num_chunks):\n",
    "    fft_yz = xrft.fft(DA, dim=['y','z'], shift=True)  # take dft in y & z direction\n",
    "    fft_yz_rechunked = fft_yz.chunk({'freq_y':int(len(DA.y))/num_chunks,'x':int(len(DA.x))})  # rechunk along y direction \n",
    "    fft_all = xrft.fft(fft_yz_rechunked, dim=['x'], shift=True)  # take dft in x direction\n",
    "    return fft_all\n",
    "\n",
    "# Take fft (lazily)\n",
    "fft_DA = xrft_fft(dens_grid_DA, num_chunks)  # num chunks defined earlier when loading dens_grid\n",
    "fft_DA = fft_DA.assign_coords({\n",
    "            'qx': ('freq_x', fft_DA.freq_x.data * 2 * np.pi),\n",
    "            'qy': ('freq_y', fft_DA.freq_y.data * 2 * np.pi),\n",
    "            'qz': ('freq_z', fft_DA.freq_z.data * 2 * np.pi)\n",
    "                   }).swap_dims({'freq_x':'qx', 'freq_y':'qy', 'freq_z':'qz'})\n",
    "\n",
    "\n",
    "# # Optionally, apply gaussian (multiply by gaussian (analytically fourier transformed sigma value))\n",
    "# def fft_gaussian_kernel(DA, sigma):\n",
    "#     sigma *= 1/(2*np.pi) #converts sigma to q-space units\n",
    "#     qx, qy, qz = da.meshgrid(DA.qy.data, DA.qx.data, DA.qz.data,)\n",
    "#     g_fft = np.exp(-1/2 * (sigma**2) * (qx**2 + qy**2 + qz**2)) \n",
    "    \n",
    "#     return g_fft\n",
    "\n",
    "# # # Multiply gaussian (lazily)\n",
    "# sigma = 1\n",
    "# fft_DA = fft_DA * fft_gaussian_kernel(fft_DA, sigma)\n",
    "\n",
    "# Run computation graph with dask and persist result into memroy\n",
    "fft_DA = fft_DA.persist()\n",
    "fft_DA"
   ]
  },
  {
   "cell_type": "markdown",
   "id": "263c1811-e1bf-4351-8f24-caf368e5b75d",
   "metadata": {
    "tags": []
   },
   "source": [
    "## Visualize 3D reciprocal space"
   ]
  },
  {
   "cell_type": "code",
   "execution_count": null,
   "id": "3b1d42b3-0409-4519-9672-8b1b96a86480",
   "metadata": {},
   "outputs": [],
   "source": [
    "# fft_DA.data.visualize()"
   ]
  },
  {
   "cell_type": "code",
   "execution_count": null,
   "id": "946da900-a8fd-4441-8d0e-94068a1abb32",
   "metadata": {
    "tags": []
   },
   "outputs": [],
   "source": [
    "extent = 10\n",
    "\n",
    "iq_DA = np.abs(fft_DA)**2\n",
    "\n",
    "# Plot\n",
    "plt.close('all')\n",
    "iq_DA_sum = iq_DA.sum('qz').compute()\n",
    "sel_DA = iq_DA_sum.sel(qy=slice(-extent,extent),qx=slice(-extent,extent))\n",
    "# sel_DA = iq_DA_sum.sel(qx=slice(None,None),qy=slice(None,None))\n",
    "cmin,cmax = sel_DA.quantile([0.1,0.999])\n",
    "ax = sel_DA.plot.imshow(norm=plt.Normalize(cmin,cmax))\n",
    "plt.show()"
   ]
  },
  {
   "cell_type": "code",
   "execution_count": null,
   "id": "c40cb28a-c261-4330-91fc-cea97ec12ca2",
   "metadata": {
    "tags": []
   },
   "outputs": [],
   "source": [
    "# 3D plotter, curently needs to compute & hold whole array in memory!\n",
    "\n",
    "extent = 7.5\n",
    "\n",
    "plt.close('all')\n",
    "threshold = 98\n",
    "num_levels = 10\n",
    "cmap = 'plasma'\n",
    "\n",
    "iq_DA = np.abs(fft_DA)**2\n",
    "sel_DA = iq_DA.sel(qx=slice(-extent,extent), qy=slice(-extent,extent), qz=slice(-extent,extent))\n",
    "\n",
    "fig, ax = plot_3D_grid(sel_DA.data.compute(), sel_DA.qx.data, sel_DA.qy.data, sel_DA.qz.data, cmap, threshold, num_levels)\n",
    "\n",
    "plt.show()"
   ]
  },
  {
   "cell_type": "markdown",
   "id": "112382ef-63ae-43ee-8f08-aef79a8e6e91",
   "metadata": {
    "tags": []
   },
   "source": [
    "## Optional Inverse FFT check  "
   ]
  },
  {
   "cell_type": "markdown",
   "id": "797b819c-ec0f-4872-9573-0ee8f71e147c",
   "metadata": {
    "jp-MarkdownHeadingCollapsed": true,
    "tags": []
   },
   "source": [
    "## Work in progress: code to down sample 3D output (for plotting)"
   ]
  },
  {
   "cell_type": "code",
   "execution_count": null,
   "id": "06c51935-5a8d-44ae-bf5e-bddfee865714",
   "metadata": {},
   "outputs": [],
   "source": [
    "lazy_binned_DA = dens_grid_DA.groupby_bins('x', 128).mean().groupby_bins('y',128).mean().groupby_bins('z',128).mean()"
   ]
  },
  {
   "cell_type": "code",
   "execution_count": null,
   "id": "2fcd9886-ff17-4073-80a1-32c6777ccd75",
   "metadata": {
    "tags": []
   },
   "outputs": [],
   "source": [
    "lazy_binned_DA.data.visualize()"
   ]
  },
  {
   "cell_type": "code",
   "execution_count": null,
   "id": "2384f19a-1e9b-4147-8f76-50f90a5d84f8",
   "metadata": {},
   "outputs": [],
   "source": [
    "binned_DA = lazy_binned_DA.persist()\n",
    "\n",
    "display(binned_DA)"
   ]
  },
  {
   "cell_type": "code",
   "execution_count": null,
   "id": "5359039b-2af0-4162-aa21-0dbbe463c7a8",
   "metadata": {},
   "outputs": [],
   "source": [
    "binned_DA = binned_DA.assign_coords({\n",
    "            'x': ('x_bins', np.array([interval.mid for interval in binned_DA.x_bins.data])),\n",
    "            'y': ('y_bins', np.array([interval.mid for interval in binned_DA.y_bins.data])),\n",
    "            'z': ('z_bins', np.array([interval.mid for interval in binned_DA.z_bins.data]))\n",
    "                   }).swap_dims({'x_bins':'x', 'y_bins':'y', 'z_bins':'z'})\n",
    "binned_DA"
   ]
  },
  {
   "cell_type": "code",
   "execution_count": null,
   "id": "60ffcb00-7742-488b-9343-6f01148c4f08",
   "metadata": {},
   "outputs": [],
   "source": [
    "plt.close('all')\n",
    "threshold = 99.9\n",
    "num_levels = 10\n",
    "cmap = 'plasma'\n",
    "fig, ax = plot_3D_grid(density_grid.compute(), x_axis, y_axis, z_axis, cmap, threshold, num_levels, log=True)\n",
    "# fig, ax = plot_3D_grid(binned_DA.data.compute(), binned_DA.x.data, binned_DA.y.data, binned_DA.z.data, cmap, threshold, num_levels, log=True)\n",
    "\n",
    "plt.show()"
   ]
  },
  {
   "cell_type": "markdown",
   "id": "8e91453f-ad59-415d-9892-9e6e4db825d1",
   "metadata": {},
   "source": [
    "# find q-resolutions\n",
    "### The frequency resolution (qbin size) is given by sampling rate (1/voxel_size) over box size (size of molecule)"
   ]
  },
  {
   "cell_type": "code",
   "execution_count": null,
   "id": "74345a01-04d9-4c7e-9939-a8f23c4049dc",
   "metadata": {},
   "outputs": [],
   "source": [
    "x_vals = qx\n",
    "y_vals = qy\n",
    "z_vals = qz\n",
    "qx_res = x_vals[1]-x_vals[0]\n",
    "qy_res = y_vals[1]-y_vals[0]\n",
    "qz_res = z_vals[1]-z_vals[0]\n",
    "print(f'Resolutions are [qx={qx_res:.4f}, qy={qy_res:.4f}, qz={qz_res:.4f}]')"
   ]
  },
  {
   "cell_type": "code",
   "execution_count": null,
   "id": "3f1ee5b4-0cb4-4f2d-b171-a4aa8452b9d1",
   "metadata": {},
   "outputs": [],
   "source": [
    "x_vals = iq_DA.qx.data\n",
    "y_vals = iq_DA.qy.data\n",
    "z_vals = iq_DA.qz.data\n",
    "qx_res = x_vals[1]-x_vals[0]\n",
    "qy_res = y_vals[1]-y_vals[0]\n",
    "qz_res = z_vals[1]-z_vals[0]\n",
    "print(f'Resolutions are [qx={qx_res:.4f}, qy={qy_res:.4f}, qz={qz_res:.4f}]')"
   ]
  },
  {
   "cell_type": "markdown",
   "id": "4c52ab30-a74d-44c3-8201-64786de5fdc5",
   "metadata": {},
   "source": [
    "# Set up Detector"
   ]
  },
  {
   "cell_type": "code",
   "execution_count": null,
   "id": "ceaa3e2c-e025-4ed4-9cbe-b670e72fa5a9",
   "metadata": {},
   "outputs": [],
   "source": [
    "det_pixels = (200,200) #horizontal, vertical\n",
    "det_qs = (8,8) #horizontal, vertical (these are absolute maximums. detector centered at 0)\n",
    "det_x_grid, det_y_grid, det_z_grid, det_h, det_v = make_detector(det_qs[0], det_pixels[0], det_qs[1], det_pixels[1])\n",
    "\n",
    "psi = 0 #rotation in degrees of detector about detector normal axis\n",
    "det_x_grid, det_y_grid, det_z_grid = rotate_about_normal(det_x_grid, det_y_grid, det_z_grid, psi)\n",
    "phi = 0 #rotation in degrees of detector about detector vertical axis\n",
    "det_x_grid, det_y_grid, det_z_grid = rotate_about_vertical(det_x_grid, det_y_grid, det_z_grid, phi)\n",
    "theta = 0 #rotation in degrees of detector about detector horizontal axis\n",
    "det_x_grid, det_y_grid, det_z_grid = rotate_about_horizontal(det_x_grid, det_y_grid, det_z_grid, theta)"
   ]
  },
  {
   "cell_type": "markdown",
   "id": "7794554d-f1bb-4787-8fb3-f6151861426c",
   "metadata": {},
   "source": [
    "# plot single detector"
   ]
  },
  {
   "cell_type": "code",
   "execution_count": null,
   "id": "42cf26c9-fcbb-486a-9b7c-cc40fb707da0",
   "metadata": {},
   "outputs": [],
   "source": [
    "det_ints = intersect_detector(iq, qx, qy, qz, det_x_grid, det_y_grid, det_z_grid, det_h, det_v)\n",
    "\n",
    "# plot\n",
    "fig, ax1 = subplots()\n",
    "ax1.imshow(det_ints,\n",
    "           norm=matplotlib.colors.Normalize(vmin=np.percentile(det_ints, 10), vmax=np.percentile(det_ints, 99)),\n",
    "           extent=(np.min(det_h),np.max(det_h),np.min(det_v),np.max(det_v)),\n",
    "           cmap='turbo',\n",
    "           origin = 'lower')\n",
    "ax1.set_xlabel('q horizontal')\n",
    "ax1.set_ylabel('q vertical')"
   ]
  },
  {
   "cell_type": "code",
   "execution_count": null,
   "id": "770a49ac-086d-4145-ba07-40d4b93fad95",
   "metadata": {},
   "outputs": [],
   "source": [
    "det_ints = intersect_detector(iq_DA.data, iq_DA.qx.data*2*np.pi, iq_DA.qy.data*2*np.pi, iq_DA.qz.data*2*np.pi, det_x_grid, det_y_grid, det_z_grid, det_h, det_v)\n",
    "\n",
    "# plot\n",
    "fig, ax1 = subplots()\n",
    "ax1.imshow(det_ints,\n",
    "           norm=matplotlib.colors.Normalize(vmin=np.percentile(det_ints, 10), vmax=np.percentile(det_ints, 99)),\n",
    "           extent=(np.min(det_h),np.max(det_h),np.min(det_v),np.max(det_v)),\n",
    "           cmap='turbo',\n",
    "           origin = 'lower')\n",
    "ax1.set_xlabel('q horizontal')\n",
    "ax1.set_ylabel('q vertical')"
   ]
  },
  {
   "cell_type": "markdown",
   "id": "75c099c7-8aa3-44f8-a73b-fa83514d333d",
   "metadata": {},
   "source": [
    "# Generate and sum multiple plots across selected angles"
   ]
  },
  {
   "cell_type": "code",
   "execution_count": null,
   "id": "7f2ed969-a998-4c24-9213-db8653ed9a19",
   "metadata": {},
   "outputs": [],
   "source": [
    "def generate_detector_ints(det_pixels, det_qs, psi, phi, theta):\n",
    "    det_x_grid, det_y_grid, det_z_grid, det_h, det_v = make_detector(det_qs[0], det_pixels[0], det_qs[1], det_pixels[1])\n",
    "    \n",
    "    # psi = 0 #rotation in degrees of detector about detector normal axis\n",
    "    det_x_grid, det_y_grid, det_z_grid = rotate_about_normal(det_x_grid, det_y_grid, det_z_grid, psi)\n",
    "    # phi = 0 #rotation in degrees of detector about detector vertical axis\n",
    "    det_x_grid, det_y_grid, det_z_grid = rotate_about_vertical(det_x_grid, det_y_grid, det_z_grid, phi)\n",
    "    # theta = 0 #rotation in degrees of detector about detector horizontal axis\n",
    "    det_x_grid, det_y_grid, det_z_grid = rotate_about_horizontal(det_x_grid, det_y_grid, det_z_grid, theta)\n",
    "    det_ints = intersect_detector(iq, qx, qy, qz, det_x_grid, det_y_grid, det_z_grid, det_h, det_v)\n",
    "\n",
    "    return det_ints"
   ]
  },
  {
   "cell_type": "code",
   "execution_count": null,
   "id": "74414534-90d0-4a0b-84b9-c529bfcb617d",
   "metadata": {},
   "outputs": [],
   "source": [
    "#setup detector\n",
    "det_pixels = (150,150) #horizontal, vertical\n",
    "det_qs = (6.5,6.5) #horizontal, vertical (these are absolute maximums. detector centered at 0)\n",
    "psi = 0 #rotation in degrees of detector about detector normal axis\n",
    "phis = np.linspace(0,180,num=60) #rotation in degrees of detector about detector vertical axis\n",
    "theta = 0 #rotation in degrees of detector about detector horizontal axis\n",
    "\n",
    "det_ints = []\n",
    "det_x_grid, det_y_grid, det_z_grid, det_h, det_v = make_detector(det_qs[0], det_pixels[0], det_qs[1], det_pixels[1])\n",
    "for i, phi in enumerate(phis):\n",
    "    det_int = generate_detector_ints(det_pixels, det_qs, psi, phi, theta)\n",
    "    if i == 0:\n",
    "        det_sum = det_int\n",
    "    else:\n",
    "        det_sum +=det_int\n",
    "    det_ints.append(det_int)"
   ]
  },
  {
   "cell_type": "code",
   "execution_count": null,
   "id": "761e590c-4aed-4b80-945c-99ab4e8a0bd3",
   "metadata": {},
   "outputs": [],
   "source": [
    "%matplotlib widget\n",
    "fig, ax1 = subplots()\n",
    "cax = ax1.imshow(det_sum,\n",
    "           norm=matplotlib.colors.LogNorm(vmin=np.percentile(det_sum, 30), vmax=np.percentile(det_sum, 99)),\n",
    "           extent=(np.min(det_h),np.max(det_h),np.min(det_v),np.max(det_v)),\n",
    "           cmap='turbo',\n",
    "           origin = 'lower')\n",
    "ax1.set_xlabel('q horizontal')\n",
    "ax1.set_ylabel('q vertical')\n",
    "ax1.set_xlim(left=0)\n",
    "ax1.set_ylim(bottom=0)\n",
    "cbar = fig.colorbar(cax, ax=ax1)"
   ]
  },
  {
   "cell_type": "markdown",
   "id": "8ca6240c-6661-45dd-a7db-b732ed703b39",
   "metadata": {},
   "source": [
    "# Visualize each individual detector across angles"
   ]
  },
  {
   "cell_type": "code",
   "execution_count": null,
   "id": "f3c7b82c-d9cf-4875-a496-bfafa226741b",
   "metadata": {},
   "outputs": [],
   "source": [
    "%matplotlib inline"
   ]
  },
  {
   "cell_type": "code",
   "execution_count": null,
   "id": "df97be38-02bd-4822-85f7-269bc9a18f57",
   "metadata": {},
   "outputs": [],
   "source": [
    "for i in range(len(det_ints[:,0,0])):\n",
    "    det_int = det_ints[i,:,:]\n",
    "    fig, ax1 = subplots()\n",
    "    cax = ax1.imshow(det_int,\n",
    "           norm=matplotlib.colors.LogNorm(vmin=np.percentile(det_int, 10), vmax=np.percentile(det_int, 99)),\n",
    "           extent=(np.min(det_h),np.max(det_h),np.min(det_v),np.max(det_v)),\n",
    "           cmap='turbo',\n",
    "           origin = 'lower')\n",
    "    ax1.set_xlabel('q horizontal')\n",
    "    ax1.set_ylabel('q vertical')\n",
    "    ax1.set_xlim(0, 3)\n",
    "    ax1.set_ylim(0, 3)\n",
    "    cbar = fig.colorbar(cax, ax=ax1)\n",
    "    ax1.set_title(f'Phi = {i*3} degrees')\n",
    "    plt.show()\n",
    "    plt.close('all')\n",
    "    "
   ]
  },
  {
   "cell_type": "code",
   "execution_count": null,
   "id": "4abb237c-6141-473f-9569-1dd63505e7d6",
   "metadata": {},
   "outputs": [],
   "source": [
    "client.restart()"
   ]
  }
 ],
 "metadata": {
  "kernelspec": {
   "display_name": "Python 3 (ipykernel)",
   "language": "python",
   "name": "python3"
  },
  "language_info": {
   "codemirror_mode": {
    "name": "ipython",
    "version": 3
   },
   "file_extension": ".py",
   "mimetype": "text/x-python",
   "name": "python",
   "nbconvert_exporter": "python",
   "pygments_lexer": "ipython3",
   "version": "3.10.13"
  }
 },
 "nbformat": 4,
 "nbformat_minor": 5
}
