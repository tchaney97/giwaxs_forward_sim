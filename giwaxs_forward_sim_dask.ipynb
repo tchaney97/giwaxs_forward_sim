{
 "cells": [
  {
   "cell_type": "markdown",
   "id": "f199c5d8-9ad6-4416-87dd-6ec0d8ab4a17",
   "metadata": {},
   "source": [
    "# Setup"
   ]
  },
  {
   "cell_type": "markdown",
   "id": "770984db-9697-41b9-9ccb-db3242b71dfc",
   "metadata": {},
   "source": [
    "## Import packages"
   ]
  },
  {
   "cell_type": "code",
   "execution_count": null,
   "id": "67602eed-eff9-442d-b8c4-faaaaa502936",
   "metadata": {
    "tags": []
   },
   "outputs": [],
   "source": [
    "import pathlib\n",
    "import numpy as np\n",
    "import xarray as xr\n",
    "import matplotlib\n",
    "import matplotlib.pyplot as plt\n",
    "from matplotlib.pyplot import subplots\n",
    "from scipy.signal import convolve\n",
    "from scipy.ndimage import gaussian_filter\n",
    "from mpl_toolkits.mplot3d import Axes3D\n",
    "from matplotlib.colors import LogNorm\n",
    "from numpy.fft import fftn, fftshift\n",
    "from tqdm.auto import tqdm\n",
    "import os\n",
    "\n",
    "import dask\n",
    "import dask.array as da\n",
    "from dask.diagnostics import ProgressBar\n",
    "from dask_image.ndfourier import fourier_gaussian, _utils\n",
    "import flox\n",
    "import flox.xarray\n",
    "from flox.xarray import xarray_reduce\n",
    "import xrft\n",
    "\n",
    "%matplotlib widget"
   ]
  },
  {
   "cell_type": "markdown",
   "id": "c8b61d2f-60d7-408b-84be-7d19fade0b81",
   "metadata": {},
   "source": [
    "## Setup dask client\n",
    "Optional, without setting up anything, the arrays will be chunked but may not parallelize as expected\n",
    "\n",
    "To set up with JupyterLab dask extension (if installed):\n",
    "- Click on dask tab on the left side, just under the kernel tab and above the table of contents tab\n",
    "- Start new cluster at bottom, then click the '<>' to insert a cell into the notebook with code to intialize the client\n",
    "- Click Launch dashboard in output from inserted cell to see standard dashboard windows on right side\n",
    "- In the dask tab, launch any other progress windows of intereste (graph is nice)"
   ]
  },
  {
   "cell_type": "code",
   "execution_count": null,
   "id": "668301f8-3f5f-4d7b-b3ab-f90a2fcb3ec3",
   "metadata": {
    "tags": []
   },
   "outputs": [],
   "source": [
    "from dask.distributed import Client\n",
    "\n",
    "client = Client(\"tcp://127.0.0.1:42979\")\n",
    "client"
   ]
  },
  {
   "cell_type": "markdown",
   "id": "cab41405-c6a7-4543-ab30-dc1a054f33a8",
   "metadata": {},
   "source": [
    "## Import local files"
   ]
  },
  {
   "cell_type": "code",
   "execution_count": null,
   "id": "4e74b8a6-e1b4-4444-a344-07c96902d42a",
   "metadata": {
    "tags": []
   },
   "outputs": [],
   "source": [
    "from ptable_dict import ptable, atomic_masses\n",
    "from utilities import write_xyz, load_xyz, rotation_matrix, gaussian_kernel\n",
    "from meshgrids import generate_density_grid, convert_grid_qspace, plot_3D_grid, generate_electron_grid_npys_fixed, flexible_density_grid_npys_along_x\n",
    "from detector import make_detector, rotate_about_normal, rotate_about_horizontal, rotate_about_vertical, intersect_detector"
   ]
  },
  {
   "cell_type": "markdown",
   "id": "dd801e01-e1e4-4e08-b8ab-6e4690ead83d",
   "metadata": {},
   "source": [
    "# Generate and plot real-space voxel map for xyz file"
   ]
  },
  {
   "cell_type": "markdown",
   "id": "db897241-3028-4898-8e22-e4b549dab843",
   "metadata": {
    "tags": []
   },
   "source": [
    "## Fixed voxel segmentations along x"
   ]
  },
  {
   "cell_type": "code",
   "execution_count": null,
   "id": "48bbd3d0-bcf2-4905-a9b9-98160f05ab60",
   "metadata": {
    "tags": []
   },
   "outputs": [],
   "source": [
    "# Define base path\n",
    "basePath = pathlib.Path('/nsls2/users/alevin/repos/giwaxs_forward_sim')\n",
    "xyzPath = basePath.joinpath('test_xyz_files/graphite_medium.xyz')\n",
    "npySavePath = pathlib.Path('/nsls2/users/alevin/misc_data/density_grid_segments/',\n",
    "                           'graphite_medium_v6')\n",
    "npySavePath.mkdir(exist_ok=True)\n",
    "\n",
    "sigma = 0.1\n",
    "voxel_size = 0.045\n",
    "min_ax_size = 512\n",
    "segments = 8  # segments along x, also for chunks, make reasonable for ram\n",
    "num_chunks = 8 # chunks to reload \n",
    "\n",
    "shape_info = generate_electron_grid_npys_fixed(xyzPath, \n",
    "                                               voxel_size, \n",
    "                                               segments,\n",
    "                                               npySavePath,\n",
    "                                               sigma,\n",
    "                                               min_ax_size=min_ax_size)\n",
    "x_axis, y_axis, z_axis, grid_vox_x, grid_vox_y, grid_vox_z = shape_info"
   ]
  },
  {
   "cell_type": "code",
   "execution_count": null,
   "id": "39ea1ff6-85ca-4bae-ae29-680d71bc9875",
   "metadata": {
    "tags": []
   },
   "outputs": [],
   "source": [
    "client.restart()"
   ]
  },
  {
   "cell_type": "code",
   "execution_count": null,
   "id": "22f02b05-a593-4463-aa58-0fc3d5d4ce74",
   "metadata": {
    "tags": []
   },
   "outputs": [],
   "source": [
    "# Below loads the numpy array stacks into a dask array\n",
    "# I've so far been unable to fit this all into the separate python script without \n",
    "# running into strange moduleimport errors... but this should work!\n",
    "def load_array_from_npy_stack(npy_paths):\n",
    "    arrs = []\n",
    "    for npy_path in npy_paths:\n",
    "        arr = np.load(npy_path)\n",
    "        arrs.append(arr)\n",
    "\n",
    "    return np.concatenate(arrs, axis=1)   \n",
    "\n",
    "npy_paths = sorted(npySavePath.glob('*.npy'), key=lambda x: int(x.name.split('_')[3].split('-')[-1]))\n",
    "density_grid = dask.delayed(load_array_from_npy_stack)(npy_paths)\n",
    "density_grid = dask.array.from_delayed(density_grid, shape=(grid_vox_y, grid_vox_x, grid_vox_z), dtype=float)\n",
    "density_grid = density_grid.rechunk((grid_vox_y, int(grid_vox_x/num_chunks), grid_vox_z))\n",
    "\n",
    "density_grid = density_grid.persist()\n",
    "\n",
    "# Put loaded dask array into xarray data_array\n",
    "dens_grid_DA = xr.DataArray(data=density_grid,\n",
    "                            dims=['y', 'x', 'z'],\n",
    "                            coords={'y':y_axis,\n",
    "                                    'x':x_axis,\n",
    "                                    'z':z_axis})\n",
    "dens_grid_DA"
   ]
  },
  {
   "cell_type": "code",
   "execution_count": null,
   "id": "fe208b45-df44-43e2-bdec-f1c141ea4354",
   "metadata": {},
   "outputs": [],
   "source": [
    "# Compute sum along 'z' and plot result below\n",
    "zsum_DA = dens_grid_DA.sum('z').compute()"
   ]
  },
  {
   "cell_type": "code",
   "execution_count": null,
   "id": "3a95cd44-e2b5-42fb-988f-3309e5d71852",
   "metadata": {
    "tags": []
   },
   "outputs": [],
   "source": [
    "smeared_zsum_DA = xr.ones_like(zsum_DA)\n",
    "smeared_zsum_DA.data = gaussian_filter(zsum_DA.data, 5)\n",
    "\n",
    "# Plot\n",
    "plt.close('all')\n",
    "ax = smeared_zsum_DA.plot.imshow()\n",
    "ax.axes.set(xlabel='x [Å]', ylabel='y [Å]')\n",
    "plt.show()"
   ]
  },
  {
   "cell_type": "markdown",
   "id": "51930d50-9e04-4c3b-9d6d-2852a69cd7a1",
   "metadata": {
    "jp-MarkdownHeadingCollapsed": true,
    "tags": []
   },
   "source": [
    "## Flexible & smeared voxel segmentations along x\n",
    "- \"works\", but not a recommended workflow. Better to applying gaussian to fft result later"
   ]
  },
  {
   "cell_type": "code",
   "execution_count": null,
   "id": "759dd55e-3210-4000-82e2-0276556bbb45",
   "metadata": {
    "tags": []
   },
   "outputs": [],
   "source": [
    "# Define base path\n",
    "basePath = pathlib.Path('/nsls2/users/alevin/repos/giwaxs_forward_sim')\n",
    "xyzPath = basePath.joinpath('test_xyz_files/graphite_medium.xyz')\n",
    "npySavePath = pathlib.Path('/nsls2/users/alevin/misc_data/density_grid_segments/',\n",
    "                           'graphite_medium_testing_v7')\n",
    "npySavePath.mkdir(exist_ok=True)\n",
    "\n",
    "sigma = 0.1\n",
    "voxel_size = 0.045 / 2\n",
    "min_ax_size = 512 * 2\n",
    "segment_vox_size = 64  # if segments type is 'flexible', target number for grid_vox_x\n",
    "num_chunks = 16  # number of chunks to reload dask array in as\n",
    "\n",
    "shape_info = flexible_density_grid_npys_along_x(xyzPath, \n",
    "                                                npySavePath,\n",
    "                                                voxel_size, \n",
    "                                                sigma,\n",
    "                                                segment_vox_size,\n",
    "                                                min_ax_size=min_ax_size)\n",
    "\n",
    "x_axis, y_axis, z_axis, grid_vox_x, grid_vox_y, grid_vox_z = shape_info\n",
    "\n",
    "# Below loads the numpy array stacks into a dask array\n",
    "# I've so far been unable to fit this all into the separate python script without \n",
    "# running into strange moduleimport errors... but this should work!\n",
    "def load_array_from_npy_stack(npy_paths):\n",
    "    \"\"\"\"\"\"\n",
    "    arrs = []\n",
    "    for npy_path in npy_paths:\n",
    "        arr = np.load(npy_path)\n",
    "        arrs.append(arr)\n",
    "\n",
    "    return np.concatenate(arrs, axis=1)   \n",
    "\n",
    "npy_paths = sorted(npySavePath.glob('*.npy'))\n",
    "density_grid = dask.delayed(load_array_from_npy_stack)(npy_paths)\n",
    "density_grid = dask.array.from_delayed(density_grid, shape=(grid_vox_y, grid_vox_x, grid_vox_z), dtype=float)\n",
    "density_grid = density_grid.rechunk((grid_vox_y, int(grid_vox_x/num_chunks), grid_vox_z))\n",
    "\n",
    "density_grid = density_grid.persist()\n",
    "\n",
    "# Put loaded dask array into xarray data_array\n",
    "dens_grid_DA = xr.DataArray(data=density_grid,\n",
    "                            dims=['y', 'x', 'z'],\n",
    "                            coords={'y':y_axis,\n",
    "                                    'x':x_axis,\n",
    "                                    'z':z_axis})\n",
    "dens_grid_DA"
   ]
  },
  {
   "cell_type": "code",
   "execution_count": null,
   "id": "8b10faca-2746-4a54-8f07-aba7d9819ca3",
   "metadata": {},
   "outputs": [],
   "source": [
    "# # Compute sum along 'z', apply gaussian filter, plot below\n",
    "# zsum_DA = dens_grid_DA.sum('z').compute()"
   ]
  },
  {
   "cell_type": "code",
   "execution_count": null,
   "id": "3e6ae62c-46fe-47ff-8377-cdf169ab45fa",
   "metadata": {
    "tags": []
   },
   "outputs": [],
   "source": [
    "# # Quick plot summing along z\n",
    "# plt.close('all')\n",
    "# cmin,cmax = zsum_DA.quantile([0.01, 0.999])\n",
    "# zsum_DA.plot.imshow(cmap=plt.cm.viridis, norm=plt.Normalize(cmin,cmax))\n",
    "# plt.show()"
   ]
  },
  {
   "cell_type": "markdown",
   "id": "797b819c-ec0f-4872-9573-0ee8f71e147c",
   "metadata": {
    "jp-MarkdownHeadingCollapsed": true,
    "tags": []
   },
   "source": [
    "## Work in progress: code to down sample 3D output"
   ]
  },
  {
   "cell_type": "code",
   "execution_count": null,
   "id": "06c51935-5a8d-44ae-bf5e-bddfee865714",
   "metadata": {},
   "outputs": [],
   "source": [
    "lazy_binned_DA = dens_grid_DA.groupby_bins('x', 128).mean().groupby_bins('y',128).mean().groupby_bins('z',128).mean()"
   ]
  },
  {
   "cell_type": "code",
   "execution_count": null,
   "id": "2fcd9886-ff17-4073-80a1-32c6777ccd75",
   "metadata": {
    "tags": []
   },
   "outputs": [],
   "source": [
    "lazy_binned_DA.data.visualize()"
   ]
  },
  {
   "cell_type": "code",
   "execution_count": null,
   "id": "2384f19a-1e9b-4147-8f76-50f90a5d84f8",
   "metadata": {},
   "outputs": [],
   "source": [
    "binned_DA = lazy_binned_DA.persist()\n",
    "\n",
    "display(binned_DA)"
   ]
  },
  {
   "cell_type": "code",
   "execution_count": null,
   "id": "5359039b-2af0-4162-aa21-0dbbe463c7a8",
   "metadata": {},
   "outputs": [],
   "source": [
    "binned_DA = binned_DA.assign_coords({\n",
    "            'x': ('x_bins', np.array([interval.mid for interval in binned_DA.x_bins.data])),\n",
    "            'y': ('y_bins', np.array([interval.mid for interval in binned_DA.y_bins.data])),\n",
    "            'z': ('z_bins', np.array([interval.mid for interval in binned_DA.z_bins.data]))\n",
    "                   }).swap_dims({'x_bins':'x', 'y_bins':'y', 'z_bins':'z'})\n",
    "binned_DA"
   ]
  },
  {
   "cell_type": "code",
   "execution_count": null,
   "id": "60ffcb00-7742-488b-9343-6f01148c4f08",
   "metadata": {},
   "outputs": [],
   "source": [
    "plt.close('all')\n",
    "threshold = 99.9\n",
    "num_levels = 10\n",
    "cmap = 'plasma'\n",
    "fig, ax = plot_3D_grid(density_grid.compute(), x_axis, y_axis, z_axis, cmap, threshold, num_levels, log=True)\n",
    "# fig, ax = plot_3D_grid(binned_DA.data.compute(), binned_DA.x.data, binned_DA.y.data, binned_DA.z.data, cmap, threshold, num_levels, log=True)\n",
    "\n",
    "plt.show()"
   ]
  },
  {
   "cell_type": "markdown",
   "id": "373acd00-ab72-4311-b130-a80cbd81cdd6",
   "metadata": {},
   "source": [
    "# Generate and plot reciprocal space voxel map for xyz file"
   ]
  },
  {
   "cell_type": "markdown",
   "id": "5ac8dff0-fb66-4a10-b26b-5c78f3a6ab47",
   "metadata": {},
   "source": [
    "## Forward FFT with gaussian"
   ]
  },
  {
   "cell_type": "code",
   "execution_count": null,
   "id": "ccdb91f5-f3d7-4b51-a820-1b47c3ba3400",
   "metadata": {
    "tags": []
   },
   "outputs": [],
   "source": [
    "# Define fft parallelized function with xrft + dask + xarray!\n",
    "def xrft_fft(DA, num_chunks):\n",
    "    fft_yz = xrft.fft(DA, dim=['y','z'], shift=True)  # take dft in y & z direction\n",
    "    fft_yz_rechunked = fft_yz.chunk({'freq_y':int(len(DA.y))/num_chunks,'x':int(len(DA.x))})  # rechunk along y direction \n",
    "    fft_all = xrft.fft(fft_yz_rechunked, dim=['x'], shift=True)  # take dft in x direction\n",
    "    # fft_smeared = fourier_gaussian(fft_all, sigma)\n",
    "    # iq_DA = np.abs(fft_all)**2\n",
    "    \n",
    "    return fft_all\n",
    "\n",
    "# Take fft (lazily)\n",
    "fft_DA = xrft_fft(dens_grid_DA, num_chunks)  # num chunks defined earlier when loading dens_grid\n",
    "fft_DA = fft_DA.assign_coords({\n",
    "            'qx': ('freq_x', fft_DA.freq_x.data * 2 * np.pi),\n",
    "            'qy': ('freq_y', fft_DA.freq_y.data * 2 * np.pi),\n",
    "            'qz': ('freq_z', fft_DA.freq_z.data * 2 * np.pi)\n",
    "                   }).swap_dims({'freq_x':'qx', 'freq_y':'qy', 'freq_z':'qz'})\n",
    "\n",
    "\n",
    "# # Optionally, apply gaussian (multiply by gaussian (analytically fourier transformed sigma value))\n",
    "# def fft_gaussian_kernel(DA, sigma):\n",
    "#     qx, qy, qz = da.meshgrid(DA.qy.data, DA.qx.data, DA.qz.data,)\n",
    "#     g_fft = np.exp(2 * np.pi * (qx**2 + qy**2 + qz**2) * (sigma**2))  # 2π already applied in qx,qy,qz\n",
    "    \n",
    "#     return g_fft\n",
    "\n",
    "# # Multiply gaussian (lazily)\n",
    "# fft_DA = fft_DA * fft_gaussian_kernel(fft_DA, 0.05)\n",
    "\n",
    "# Run computation graph with dask and persist result into memroy\n",
    "fft_DA = fft_DA.persist()\n",
    "fft_DA"
   ]
  },
  {
   "cell_type": "code",
   "execution_count": null,
   "id": "0f61af48-6363-42ad-80b1-7258986a3317",
   "metadata": {
    "tags": []
   },
   "outputs": [],
   "source": [
    "# Optionally, apply gaussian (multiply by gaussian (analytically fourier transformed sigma value))\n",
    "def fft_gaussian_kernel(DA, sigma):\n",
    "    qx, qy, qz = da.meshgrid(DA.qx.data, DA.qy.data, DA.qz.data,)\n",
    "    g_fft = np.exp((qx**2 + qy**2 + qz**2) * (sigma**2))  # 2π already applied in qx,qy,qz\n",
    "    \n",
    "    return g_fft\n",
    "\n",
    "# Multiply gaussian (lazily)\n",
    "gauss_kern = fft_gaussian_kernel(fft_DA, 0.05)\n",
    "gauss_kern"
   ]
  },
  {
   "cell_type": "code",
   "execution_count": null,
   "id": "908acc72-ec05-44a5-b592-51e873102f82",
   "metadata": {},
   "outputs": [],
   "source": []
  },
  {
   "cell_type": "markdown",
   "id": "263c1811-e1bf-4351-8f24-caf368e5b75d",
   "metadata": {
    "jp-MarkdownHeadingCollapsed": true,
    "tags": []
   },
   "source": [
    "## Visualize 3D reciprocal space"
   ]
  },
  {
   "cell_type": "code",
   "execution_count": null,
   "id": "3b1d42b3-0409-4519-9672-8b1b96a86480",
   "metadata": {},
   "outputs": [],
   "source": [
    "# fft_DA.data.visualize()"
   ]
  },
  {
   "cell_type": "code",
   "execution_count": null,
   "id": "946da900-a8fd-4441-8d0e-94068a1abb32",
   "metadata": {
    "tags": []
   },
   "outputs": [],
   "source": [
    "extent = 10\n",
    "\n",
    "iq_DA = np.abs(fft_DA)**2\n",
    "\n",
    "# Plot\n",
    "plt.close('all')\n",
    "iq_DA_sum = iq_DA.sum('qz').compute()\n",
    "sel_DA = iq_DA_sum.sel(qy=slice(-extent,extent),qx=slice(-extent,extent))\n",
    "# sel_DA = iq_DA_sum.sel(qx=slice(None,None),qy=slice(None,None))\n",
    "cmin,cmax = sel_DA.quantile([0.1,0.999])\n",
    "ax = sel_DA.plot.imshow(norm=plt.Normalize(cmin,cmax))\n",
    "plt.show()"
   ]
  },
  {
   "cell_type": "code",
   "execution_count": null,
   "id": "c40cb28a-c261-4330-91fc-cea97ec12ca2",
   "metadata": {
    "tags": []
   },
   "outputs": [],
   "source": [
    "# 3D plotter, curently needs to compute & hold whole array in memory!\n",
    "\n",
    "extent = 7.5\n",
    "\n",
    "plt.close('all')\n",
    "threshold = 98\n",
    "num_levels = 10\n",
    "cmap = 'plasma'\n",
    "\n",
    "iq_DA = np.abs(fft_DA)**2\n",
    "sel_DA = iq_DA.sel(qx=slice(-extent,extent), qy=slice(-extent,extent), qz=slice(-extent,extent))\n",
    "\n",
    "fig, ax = plot_3D_grid(sel_DA.data.compute(), sel_DA.qx.data, sel_DA.qy.data, sel_DA.qz.data, cmap, threshold, num_levels)\n",
    "\n",
    "plt.show()"
   ]
  },
  {
   "cell_type": "markdown",
   "id": "112382ef-63ae-43ee-8f08-aef79a8e6e91",
   "metadata": {
    "tags": []
   },
   "source": [
    "## Optional Inverse FFT check  "
   ]
  },
  {
   "cell_type": "code",
   "execution_count": null,
   "id": "6f4cf90f-df49-48db-b715-303b5e87e455",
   "metadata": {
    "tags": []
   },
   "outputs": [],
   "source": [
    "def xrft_ifft(DA, num_chunks):\n",
    "    ifft_xz = xrft.ifft(DA, dim=['freq_x','freq_z'], shift=True, lag=(None,None))  # take dft in y & z direction\n",
    "    ifft_xz_rechunked = ifft_xz.chunk({'x':int(len(DA.freq_x))/num_chunks,'freq_y':int(len(DA.freq_y))})  # rechunk along y direction \n",
    "    ifft_all = xrft.ifft(ifft_xz_rechunked, dim=['freq_y'], shift=True, lag=(None,))  # take dft in x direction\n",
    "    \n",
    "    return ifft_all\n",
    "\n",
    "# ifft_all = xrft_ifft(fft_DA.swap_dims({'qx':'freq_x', 'qy':'freq_y', 'qz':'freq_z'}), num_chunks)\n",
    "ifft_all = xrft_ifft((fft_DA*gauss_kern).swap_dims({'qx':'freq_x', 'qy':'freq_y', 'qz':'freq_z'}), num_chunks)\n",
    "ifft_all = ifft_all.persist()\n",
    "ifft_all"
   ]
  },
  {
   "cell_type": "code",
   "execution_count": null,
   "id": "a96cb74a-8bf4-4f22-86ca-17e71aa8f7b9",
   "metadata": {},
   "outputs": [],
   "source": [
    "# Compute sum along 'z' and plot result below\n",
    "ifft_mag = np.abs(ifft_all)**2\n",
    "zsum_DA = ifft_mag.sum('z').compute()"
   ]
  },
  {
   "cell_type": "code",
   "execution_count": null,
   "id": "a710fd28-b071-470f-accd-5cf18130c9b4",
   "metadata": {
    "tags": []
   },
   "outputs": [],
   "source": [
    "## With FFT gauss sigma = 5!!\n",
    "# smeared_zsum_DA = xr.ones_like(zsum_DA)\n",
    "# smeared_zsum_DA.data = gaussian_filter(zsum_DA.data, 2)\n",
    "\n",
    "# Plot\n",
    "plt.close('all')\n",
    "ax = zsum_DA.plot.imshow()\n",
    "# ax = smeared_zsum_DA.plot.imshow()\n",
    "ax.axes.set(xlabel='x [Å]', ylabel='y [Å]')\n",
    "plt.show()"
   ]
  },
  {
   "cell_type": "code",
   "execution_count": null,
   "id": "8f22f973-7b71-4b98-9c9f-4db5ec9b5e87",
   "metadata": {
    "tags": []
   },
   "outputs": [],
   "source": [
    "## With FFT gauss sigma = 5!!\n",
    "smeared_zsum_DA = xr.ones_like(zsum_DA)\n",
    "smeared_zsum_DA.data = gaussian_filter(zsum_DA.data, 2)\n",
    "\n",
    "# Plot\n",
    "plt.close('all')\n",
    "# ax = zsum_DA.plot.imshow()\n",
    "ax = smeared_zsum_DA.plot.imshow()\n",
    "ax.axes.set(xlabel='x [Å]', ylabel='y [Å]')\n",
    "plt.show()"
   ]
  },
  {
   "cell_type": "markdown",
   "id": "8e91453f-ad59-415d-9892-9e6e4db825d1",
   "metadata": {},
   "source": [
    "# find q-resolutions\n",
    "### The frequency resolution (qbin size) is given by sampling rate (1/voxel_size) over box size (size of molecule)"
   ]
  },
  {
   "cell_type": "code",
   "execution_count": null,
   "id": "74345a01-04d9-4c7e-9939-a8f23c4049dc",
   "metadata": {},
   "outputs": [],
   "source": [
    "x_vals = qx\n",
    "y_vals = qy\n",
    "z_vals = qz\n",
    "qx_res = x_vals[1]-x_vals[0]\n",
    "qy_res = y_vals[1]-y_vals[0]\n",
    "qz_res = z_vals[1]-z_vals[0]\n",
    "print(f'Resolutions are [qx={qx_res:.4f}, qy={qy_res:.4f}, qz={qz_res:.4f}]')"
   ]
  },
  {
   "cell_type": "code",
   "execution_count": null,
   "id": "3f1ee5b4-0cb4-4f2d-b171-a4aa8452b9d1",
   "metadata": {},
   "outputs": [],
   "source": [
    "x_vals = iq_DA.qx.data\n",
    "y_vals = iq_DA.qy.data\n",
    "z_vals = iq_DA.qz.data\n",
    "qx_res = x_vals[1]-x_vals[0]\n",
    "qy_res = y_vals[1]-y_vals[0]\n",
    "qz_res = z_vals[1]-z_vals[0]\n",
    "print(f'Resolutions are [qx={qx_res:.4f}, qy={qy_res:.4f}, qz={qz_res:.4f}]')"
   ]
  },
  {
   "cell_type": "markdown",
   "id": "4c52ab30-a74d-44c3-8201-64786de5fdc5",
   "metadata": {},
   "source": [
    "# Set up Detector"
   ]
  },
  {
   "cell_type": "code",
   "execution_count": null,
   "id": "ceaa3e2c-e025-4ed4-9cbe-b670e72fa5a9",
   "metadata": {},
   "outputs": [],
   "source": [
    "det_pixels = (200,200) #horizontal, vertical\n",
    "det_qs = (8,8) #horizontal, vertical (these are absolute maximums. detector centered at 0)\n",
    "det_x_grid, det_y_grid, det_z_grid, det_h, det_v = make_detector(det_qs[0], det_pixels[0], det_qs[1], det_pixels[1])\n",
    "\n",
    "psi = 0 #rotation in degrees of detector about detector normal axis\n",
    "det_x_grid, det_y_grid, det_z_grid = rotate_about_normal(det_x_grid, det_y_grid, det_z_grid, psi)\n",
    "phi = 0 #rotation in degrees of detector about detector vertical axis\n",
    "det_x_grid, det_y_grid, det_z_grid = rotate_about_vertical(det_x_grid, det_y_grid, det_z_grid, phi)\n",
    "theta = 0 #rotation in degrees of detector about detector horizontal axis\n",
    "det_x_grid, det_y_grid, det_z_grid = rotate_about_horizontal(det_x_grid, det_y_grid, det_z_grid, theta)"
   ]
  },
  {
   "cell_type": "markdown",
   "id": "7794554d-f1bb-4787-8fb3-f6151861426c",
   "metadata": {},
   "source": [
    "# plot single detector"
   ]
  },
  {
   "cell_type": "code",
   "execution_count": null,
   "id": "42cf26c9-fcbb-486a-9b7c-cc40fb707da0",
   "metadata": {},
   "outputs": [],
   "source": [
    "det_ints = intersect_detector(iq, qx, qy, qz, det_x_grid, det_y_grid, det_z_grid, det_h, det_v)\n",
    "\n",
    "# plot\n",
    "fig, ax1 = subplots()\n",
    "ax1.imshow(det_ints,\n",
    "           norm=matplotlib.colors.Normalize(vmin=np.percentile(det_ints, 10), vmax=np.percentile(det_ints, 99)),\n",
    "           extent=(np.min(det_h),np.max(det_h),np.min(det_v),np.max(det_v)),\n",
    "           cmap='turbo',\n",
    "           origin = 'lower')\n",
    "ax1.set_xlabel('q horizontal')\n",
    "ax1.set_ylabel('q vertical')"
   ]
  },
  {
   "cell_type": "code",
   "execution_count": null,
   "id": "770a49ac-086d-4145-ba07-40d4b93fad95",
   "metadata": {},
   "outputs": [],
   "source": [
    "det_ints = intersect_detector(iq_DA.data, iq_DA.qx.data*2*np.pi, iq_DA.qy.data*2*np.pi, iq_DA.qz.data*2*np.pi, det_x_grid, det_y_grid, det_z_grid, det_h, det_v)\n",
    "\n",
    "# plot\n",
    "fig, ax1 = subplots()\n",
    "ax1.imshow(det_ints,\n",
    "           norm=matplotlib.colors.Normalize(vmin=np.percentile(det_ints, 10), vmax=np.percentile(det_ints, 99)),\n",
    "           extent=(np.min(det_h),np.max(det_h),np.min(det_v),np.max(det_v)),\n",
    "           cmap='turbo',\n",
    "           origin = 'lower')\n",
    "ax1.set_xlabel('q horizontal')\n",
    "ax1.set_ylabel('q vertical')"
   ]
  },
  {
   "cell_type": "markdown",
   "id": "75c099c7-8aa3-44f8-a73b-fa83514d333d",
   "metadata": {},
   "source": [
    "# Generate and sum multiple plots across selected angles"
   ]
  },
  {
   "cell_type": "code",
   "execution_count": null,
   "id": "7f2ed969-a998-4c24-9213-db8653ed9a19",
   "metadata": {},
   "outputs": [],
   "source": [
    "def generate_detector_ints(det_pixels, det_qs, psi, phi, theta):\n",
    "    det_x_grid, det_y_grid, det_z_grid, det_h, det_v = make_detector(det_qs[0], det_pixels[0], det_qs[1], det_pixels[1])\n",
    "    \n",
    "    # psi = 0 #rotation in degrees of detector about detector normal axis\n",
    "    det_x_grid, det_y_grid, det_z_grid = rotate_about_normal(det_x_grid, det_y_grid, det_z_grid, psi)\n",
    "    # phi = 0 #rotation in degrees of detector about detector vertical axis\n",
    "    det_x_grid, det_y_grid, det_z_grid = rotate_about_vertical(det_x_grid, det_y_grid, det_z_grid, phi)\n",
    "    # theta = 0 #rotation in degrees of detector about detector horizontal axis\n",
    "    det_x_grid, det_y_grid, det_z_grid = rotate_about_horizontal(det_x_grid, det_y_grid, det_z_grid, theta)\n",
    "    det_ints = intersect_detector(iq, qx, qy, qz, det_x_grid, det_y_grid, det_z_grid, det_h, det_v)\n",
    "\n",
    "    return det_ints"
   ]
  },
  {
   "cell_type": "code",
   "execution_count": null,
   "id": "74414534-90d0-4a0b-84b9-c529bfcb617d",
   "metadata": {},
   "outputs": [],
   "source": [
    "#setup detector\n",
    "det_pixels = (150,150) #horizontal, vertical\n",
    "det_qs = (6.5,6.5) #horizontal, vertical (these are absolute maximums. detector centered at 0)\n",
    "psi = 0 #rotation in degrees of detector about detector normal axis\n",
    "phis = np.linspace(0,180,num=60) #rotation in degrees of detector about detector vertical axis\n",
    "theta = 0 #rotation in degrees of detector about detector horizontal axis\n",
    "\n",
    "det_ints = []\n",
    "det_x_grid, det_y_grid, det_z_grid, det_h, det_v = make_detector(det_qs[0], det_pixels[0], det_qs[1], det_pixels[1])\n",
    "for i, phi in enumerate(phis):\n",
    "    det_int = generate_detector_ints(det_pixels, det_qs, psi, phi, theta)\n",
    "    if i == 0:\n",
    "        det_sum = det_int\n",
    "    else:\n",
    "        det_sum +=det_int\n",
    "    det_ints.append(det_int)"
   ]
  },
  {
   "cell_type": "code",
   "execution_count": null,
   "id": "761e590c-4aed-4b80-945c-99ab4e8a0bd3",
   "metadata": {},
   "outputs": [],
   "source": [
    "%matplotlib widget\n",
    "fig, ax1 = subplots()\n",
    "cax = ax1.imshow(det_sum,\n",
    "           norm=matplotlib.colors.LogNorm(vmin=np.percentile(det_sum, 30), vmax=np.percentile(det_sum, 99)),\n",
    "           extent=(np.min(det_h),np.max(det_h),np.min(det_v),np.max(det_v)),\n",
    "           cmap='turbo',\n",
    "           origin = 'lower')\n",
    "ax1.set_xlabel('q horizontal')\n",
    "ax1.set_ylabel('q vertical')\n",
    "ax1.set_xlim(left=0)\n",
    "ax1.set_ylim(bottom=0)\n",
    "cbar = fig.colorbar(cax, ax=ax1)"
   ]
  },
  {
   "cell_type": "markdown",
   "id": "8ca6240c-6661-45dd-a7db-b732ed703b39",
   "metadata": {},
   "source": [
    "# Visualize each individual detector across angles"
   ]
  },
  {
   "cell_type": "code",
   "execution_count": null,
   "id": "f3c7b82c-d9cf-4875-a496-bfafa226741b",
   "metadata": {},
   "outputs": [],
   "source": [
    "%matplotlib inline"
   ]
  },
  {
   "cell_type": "code",
   "execution_count": null,
   "id": "df97be38-02bd-4822-85f7-269bc9a18f57",
   "metadata": {},
   "outputs": [],
   "source": [
    "for i in range(len(det_ints[:,0,0])):\n",
    "    det_int = det_ints[i,:,:]\n",
    "    fig, ax1 = subplots()\n",
    "    cax = ax1.imshow(det_int,\n",
    "           norm=matplotlib.colors.LogNorm(vmin=np.percentile(det_int, 10), vmax=np.percentile(det_int, 99)),\n",
    "           extent=(np.min(det_h),np.max(det_h),np.min(det_v),np.max(det_v)),\n",
    "           cmap='turbo',\n",
    "           origin = 'lower')\n",
    "    ax1.set_xlabel('q horizontal')\n",
    "    ax1.set_ylabel('q vertical')\n",
    "    ax1.set_xlim(0, 3)\n",
    "    ax1.set_ylim(0, 3)\n",
    "    cbar = fig.colorbar(cax, ax=ax1)\n",
    "    ax1.set_title(f'Phi = {i*3} degrees')\n",
    "    plt.show()\n",
    "    plt.close('all')\n",
    "    "
   ]
  }
 ],
 "metadata": {
  "kernelspec": {
   "display_name": "dask",
   "language": "python",
   "name": "dask"
  },
  "language_info": {
   "codemirror_mode": {
    "name": "ipython",
    "version": 3
   },
   "file_extension": ".py",
   "mimetype": "text/x-python",
   "name": "python",
   "nbconvert_exporter": "python",
   "pygments_lexer": "ipython3",
   "version": "3.9.18"
  }
 },
 "nbformat": 4,
 "nbformat_minor": 5
}
